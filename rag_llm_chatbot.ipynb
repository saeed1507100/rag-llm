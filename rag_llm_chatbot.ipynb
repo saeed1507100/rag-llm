{
 "cells": [
  {
   "cell_type": "markdown",
   "metadata": {},
   "source": [
    "# 1. LLM - RAG (langchain)\n",
    "Get API keys in enironment variables"
   ]
  },
  {
   "cell_type": "code",
   "execution_count": 1,
   "metadata": {},
   "outputs": [
    {
     "data": {
      "text/plain": [
       "True"
      ]
     },
     "execution_count": 1,
     "metadata": {},
     "output_type": "execute_result"
    }
   ],
   "source": [
    "import dotenv\n",
    "dotenv.load_dotenv()"
   ]
  },
  {
   "cell_type": "markdown",
   "metadata": {},
   "source": [
    "Get gemini-pro as LLM"
   ]
  },
  {
   "cell_type": "code",
   "execution_count": 5,
   "metadata": {},
   "outputs": [
    {
     "data": {
      "text/plain": [
       "'I am Gemini, a large multi-modal model, trained by Google.'"
      ]
     },
     "execution_count": 5,
     "metadata": {},
     "output_type": "execute_result"
    }
   ],
   "source": [
    "from langchain_google_genai import ChatGoogleGenerativeAI\n",
    "llm = ChatGoogleGenerativeAI(model=\"gemini-pro\")\n",
    "\n",
    "result = llm.invoke(\"who are you?\")\n",
    "result.content\n"
   ]
  },
  {
   "cell_type": "markdown",
   "metadata": {},
   "source": [
    "Load the webpage"
   ]
  },
  {
   "cell_type": "code",
   "execution_count": 8,
   "metadata": {},
   "outputs": [
    {
     "name": "stdout",
     "output_type": "stream",
     "text": [
      "\n",
      "\n",
      "      LLM Powered Autonomous Agents\n",
      "    \n",
      "Date: June 23, 2023  |  Estimated Reading Time: 31 min  |\n"
     ]
    }
   ],
   "source": [
    "from langchain.document_loaders import WebBaseLoader\n",
    "import bs4\n",
    "\n",
    "loader = WebBaseLoader(\n",
    "    web_paths=(\"https://lilianweng.github.io/posts/2023-06-23-agent/\",),\n",
    "    bs_kwargs=dict(\n",
    "        parse_only=bs4.SoupStrainer(class_=(\"post-content\", \"post-title\", \"post-header\"))\n",
    "    )\n",
    ")\n",
    "docs = loader.load()\n",
    "print(docs[0].page_content[:100])\n"
   ]
  },
  {
   "cell_type": "markdown",
   "metadata": {},
   "source": [
    "Split, index the contents & store in a vectorDB"
   ]
  },
  {
   "cell_type": "code",
   "execution_count": 15,
   "metadata": {},
   "outputs": [
    {
     "name": "stderr",
     "output_type": "stream",
     "text": [
      "/Users/saeed.anwar/Projects/venvs/rag_llm_chatbot/lib/python3.12/site-packages/huggingface_hub/file_download.py:1132: FutureWarning: `resume_download` is deprecated and will be removed in version 1.0.0. Downloads always resume when possible. If you want to force a new download, use `force_download=True`.\n",
      "  warnings.warn(\n"
     ]
    }
   ],
   "source": [
    "from langchain.text_splitter import RecursiveCharacterTextSplitter\n",
    "from langchain_chroma import Chroma\n",
    "from langchain.embeddings import HuggingFaceEmbeddings\n",
    "\n",
    "text_splitter = RecursiveCharacterTextSplitter(chunk_size=1000, chunk_overlap=200)\n",
    "splits  = text_splitter.split_documents(docs)\n",
    "embedding = HuggingFaceEmbeddings()\n",
    "vectorstore = Chroma.from_documents(documents=splits, embedding=embedding)"
   ]
  },
  {
   "cell_type": "markdown",
   "metadata": {},
   "source": [
    "Prepare a retirever to retrive from the vectorstore"
   ]
  },
  {
   "cell_type": "code",
   "execution_count": 18,
   "metadata": {},
   "outputs": [
    {
     "data": {
      "text/plain": [
       "'Tree of Thoughts (Yao et al. 2023) extends CoT by exploring multiple reasoning possibilities at each step. It first decomposes the problem into multiple thought steps and generates multiple thoughts per step, creating a tree structure. The search process can be BFS (breadth-first search) or DFS (depth-first search) with each state evaluated by a classifier (via a prompt) or majority vote.\\nTask decomposition can be done (1) by LLM with simple prompting like \"Steps for XYZ.\\\\n1.\", \"What are the subgoals for achieving XYZ?\", (2) by using task-specific instructions; e.g. \"Write a story outline.\" for writing a novel, or (3) with human inputs.'"
      ]
     },
     "execution_count": 18,
     "metadata": {},
     "output_type": "execute_result"
    }
   ],
   "source": [
    "retriever = vectorstore.as_retriever(search_type=\"similarity\", search_kwargs={\"k\": 5})\n",
    "retrieved_docs = retriever.invoke(\"What are the approaches to Task Decomposition?\")\n",
    "retrieved_docs[0].page_content"
   ]
  },
  {
   "cell_type": "markdown",
   "metadata": {},
   "source": [
    "Now generate Answers using the retriever & LLM"
   ]
  },
  {
   "cell_type": "code",
   "execution_count": 25,
   "metadata": {},
   "outputs": [
    {
     "data": {
      "text/plain": [
       "[HumanMessage(content=\"You are an assistant for question-answering tasks. Use the following pieces of retrieved context to answer the question. If you don't know the answer, just say that you don't know. Use three sentences maximum and keep the answer concise.\\nQuestion: filler question? \\nContext: filler_context \\nAnswer:\")]"
      ]
     },
     "execution_count": 25,
     "metadata": {},
     "output_type": "execute_result"
    }
   ],
   "source": [
    "# prompt = \"\"\"\n",
    "# You are an assistant for question-answering tasks. Use the following pieces of retrieved context to answer the question. If you don't know the answer, just say that you don't know. Use three sentences maximum and keep the answer concise.\n",
    "# Question: {question} \n",
    "# Context: {context} \n",
    "# Answer:\n",
    "# \"\"\"\n",
    "\n",
    "# load the prompt from the langchain hub\n",
    "from langchain import hub\n",
    "prompt = hub.pull(\"rlm/rag-prompt\")\n",
    "prompt.invoke({\"question\": \"filler question?\", \"context\": \"filler_context\"}).to_messages()"
   ]
  },
  {
   "cell_type": "code",
   "execution_count": 26,
   "metadata": {},
   "outputs": [],
   "source": [
    "from langchain_core.output_parsers import StrOutputParser\n",
    "from langchain_core.runnables import RunnablePassthrough\n",
    "\n",
    "def format_docs(docs):\n",
    "    return \"\\n\\n\".join(doc.page_content for doc in docs)\n",
    "\n",
    "\n",
    "rag_chain = (\n",
    "    {\"context\": retriever | format_docs, \"question\": RunnablePassthrough()}\n",
    "    | prompt\n",
    "    | llm\n",
    "    | StrOutputParser()\n",
    ")"
   ]
  },
  {
   "cell_type": "code",
   "execution_count": 31,
   "metadata": {},
   "outputs": [
    {
     "name": "stdout",
     "output_type": "stream",
     "text": [
      "Generative agents are virtual characters controlled by LLM agents that interact in a sandbox environment. They create believable simulations of human behavior, combining LLM with memory, planning, and reflection mechanisms. Generative agents enable agents to behave based on past experiences and interact with other agents."
     ]
    }
   ],
   "source": [
    "for chunk in rag_chain.stream(\"What is a generative agent?\"):\n",
    "    print(chunk, end=\"\", flush=True)"
   ]
  },
  {
   "cell_type": "markdown",
   "metadata": {},
   "source": [
    "# Let's try with a different document (Agricultural handbook)"
   ]
  },
  {
   "cell_type": "code",
   "execution_count": 41,
   "metadata": {},
   "outputs": [],
   "source": [
    "from langchain_community.document_loaders import PyPDFLoader\n",
    "\n",
    "loader = PyPDFLoader(\"Hand Book of Agricultural Technology.pdf\")\n",
    "pages = loader.load_and_split()\n",
    "\n",
    "pages = pages[17:26] # select a range of pages (rice cultivation)"
   ]
  },
  {
   "cell_type": "code",
   "execution_count": 42,
   "metadata": {},
   "outputs": [
    {
     "name": "stderr",
     "output_type": "stream",
     "text": [
      "/Users/saeed.anwar/Projects/venvs/rag_llm_chatbot/lib/python3.12/site-packages/huggingface_hub/file_download.py:1132: FutureWarning: `resume_download` is deprecated and will be removed in version 1.0.0. Downloads always resume when possible. If you want to force a new download, use `force_download=True`.\n",
      "  warnings.warn(\n"
     ]
    },
    {
     "data": {
      "text/plain": [
       "'09Grain type:  Medium slender. Plant height:  100 cm. \\nGrain yield:  7.0 t/ha (Boro) and 5.0 t/ha (Aus). \\nDuration:  145 days (Boro) and 105 days (Aus).  \\nGrain type:  Medium slender. Plant height:  115 cm. \\nResistant to blast. It is grown in Aman season. Grain \\nyield:  4.0 t/ha. Duration:  106 days\\nGrain type:  Medium slender. Plant height:  100 cm. \\nIt is grown in Aman season. Grain yield:  4.0 t/ha. \\nDuration:  105 days.\\nGrain type:  Medium slender. Plant height:  115 cm. \\nIt is grown in Boro season. Grain yield:  7.1 t/ha. \\nDuration:  153 days.\\nGrain type:  Long fine grain. It is early maturing \\nhigh yielding variety (HYV). Resistant to blast. It is grown in Aman season. Grain yield:  5.2 t/ha. \\nDuration:  110-115 days.  \\nGrain type:  Medium fine grain. High yielding \\nvariety (HYV). Salt tolerant. Resistant to Bacterial leaf blight. It is grown in Boro season. Grain yield:  \\n5.5 t/ha. Duration:  130-135 days.\\nBRRI \\ndhan55\\n(2011)\\nBRRI \\ndhan56 \\n(2011)\\nBRRI \\ndhan57 \\n(2011)\\nBRRI \\ndhan58 \\n(2012)\\nBina dhan7 \\n(2007)\\nBina dhan8 \\n(2012) Name of\\n Varieties  Important Characteristics Crop\\n (Year of Release)'"
      ]
     },
     "execution_count": 42,
     "metadata": {},
     "output_type": "execute_result"
    }
   ],
   "source": [
    "from langchain_community.vectorstores import chroma\n",
    "from langchain.embeddings import HuggingFaceEmbeddings\n",
    "\n",
    "vectorstore = Chroma.from_documents(documents=pages, embedding=HuggingFaceEmbeddings())\n",
    "retriever = vectorstore.as_retriever(search_type=\"similarity\", search_kwargs={\"k\": 5})\n",
    "\n",
    "retrieved_docs = retriever.invoke(\"What is the grain yield of BRRI hybrid dhan2\")\n",
    "retrieved_docs[0].page_content"
   ]
  },
  {
   "cell_type": "code",
   "execution_count": 43,
   "metadata": {},
   "outputs": [
    {
     "data": {
      "text/plain": [
       "[Document(page_content='09Grain type:  Medium slender. Plant height:  100 cm. \\nGrain yield:  7.0 t/ha (Boro) and 5.0 t/ha (Aus). \\nDuration:  145 days (Boro) and 105 days (Aus).  \\nGrain type:  Medium slender. Plant height:  115 cm. \\nResistant to blast. It is grown in Aman season. Grain \\nyield:  4.0 t/ha. Duration:  106 days\\nGrain type:  Medium slender. Plant height:  100 cm. \\nIt is grown in Aman season. Grain yield:  4.0 t/ha. \\nDuration:  105 days.\\nGrain type:  Medium slender. Plant height:  115 cm. \\nIt is grown in Boro season. Grain yield:  7.1 t/ha. \\nDuration:  153 days.\\nGrain type:  Long fine grain. It is early maturing \\nhigh yielding variety (HYV). Resistant to blast. It is grown in Aman season. Grain yield:  5.2 t/ha. \\nDuration:  110-115 days.  \\nGrain type:  Medium fine grain. High yielding \\nvariety (HYV). Salt tolerant. Resistant to Bacterial leaf blight. It is grown in Boro season. Grain yield:  \\n5.5 t/ha. Duration:  130-135 days.\\nBRRI \\ndhan55\\n(2011)\\nBRRI \\ndhan56 \\n(2011)\\nBRRI \\ndhan57 \\n(2011)\\nBRRI \\ndhan58 \\n(2012)\\nBina dhan7 \\n(2007)\\nBina dhan8 \\n(2012) Name of\\n Varieties  Important Characteristics Crop\\n (Year of Release)', metadata={'page': 23, 'source': 'Hand Book of Agricultural Technology.pdf'}),\n",
       " Document(page_content='09Grain type:  Medium slender. Plant height:  100 cm. \\nGrain yield:  7.0 t/ha (Boro) and 5.0 t/ha (Aus). \\nDuration:  145 days (Boro) and 105 days (Aus).  \\nGrain type:  Medium slender. Plant height:  115 cm. \\nResistant to blast. It is grown in Aman season. Grain \\nyield:  4.0 t/ha. Duration:  106 days\\nGrain type:  Medium slender. Plant height:  100 cm. \\nIt is grown in Aman season. Grain yield:  4.0 t/ha. \\nDuration:  105 days.\\nGrain type:  Medium slender. Plant height:  115 cm. \\nIt is grown in Boro season. Grain yield:  7.1 t/ha. \\nDuration:  153 days.\\nGrain type:  Long fine grain. It is early maturing \\nhigh yielding variety (HYV). Resistant to blast. It is grown in Aman season. Grain yield:  5.2 t/ha. \\nDuration:  110-115 days.  \\nGrain type:  Medium fine grain. High yielding \\nvariety (HYV). Salt tolerant. Resistant to Bacterial leaf blight. It is grown in Boro season. Grain yield:  \\n5.5 t/ha. Duration:  130-135 days.\\nBRRI \\ndhan55\\n(2011)\\nBRRI \\ndhan56 \\n(2011)\\nBRRI \\ndhan57 \\n(2011)\\nBRRI \\ndhan58 \\n(2012)\\nBina dhan7 \\n(2007)\\nBina dhan8 \\n(2012) Name of\\n Varieties  Important Characteristics Crop\\n (Year of Release)', metadata={'page': 23, 'source': 'Hand Book of Agricultural Technology.pdf'}),\n",
       " Document(page_content='10Grain type:  Medium bold, translucent, white. Early \\nmaturing variety. Plant height :  105 cm. Suitable for \\nall over Bangladesh. It is grown in Boro season (November to May). Grain yield:  8.0 t/ha. \\nDuration:  145 days.  \\nGrain type:  Medium bold. Early maturing variety. \\nPlant height: 110 cm. Suitable for all over \\nBangladesh. It is grown in Boro season. Grain \\nyield:  9. 0 t/ha. Duration:  145 days\\nGrain type:  Medium slender, transparent and white. \\nPlant height:  112 cm. It is grown in Aman season. \\nGrain yield:  6.5 t/ha. Duration:  118 days.\\nBRRI \\nhybrid \\ndhan2 \\n(2008)\\nBRRI \\nhybrid \\ndhan3\\n(2009)\\nBRRI \\nhybrid \\ndhan4 \\n(2010) Name of\\n Varieties  Important Characteristics Crop\\n (Year of Release)Hybrids Varities and their Characteristics\\n1.2 Production Technology\\nLand and soil\\nMedium high land to lowland is suitable for rice cultivation depending on growing \\nseason.  Any land type can be brought under rice cultivation; but its cultivation may not be economical. Clay and loamy, slightly acidic to slightly alkaline soils are suitable for rice cultivation. \\nSeed rate\\nSeed rate varies depending on crop establishment methods. For example, direct-\\nseeded rice (DSR) requires more seed rate than transplanted ones. Direct seeded upland rice: 50-60 kg/ha; Transplanted rice: 8-10 kg/ha for one seedling/hill and 16-20 kg/ha for 2-3 seedlings/hill would be required. \\nSeed treatment and soaking\\nGood quality seed is the prime requirement for a good harvest. Use of properly filled, \\nhealthy seeds would ensure 5-20% higher yields than poor quality seeds. Good seeds can be sorted out easily. Dissolve 375g urea in 10 litres of water and put 10 kg seed into the container and stir seeds by hand. Fully filled seeds will be deposited at the bottom of the container. Discard unfilled floated seeds from the top. Remove good', metadata={'page': 24, 'source': 'Hand Book of Agricultural Technology.pdf'}),\n",
       " Document(page_content='10Grain type:  Medium bold, translucent, white. Early \\nmaturing variety. Plant height :  105 cm. Suitable for \\nall over Bangladesh. It is grown in Boro season (November to May). Grain yield:  8.0 t/ha. \\nDuration:  145 days.  \\nGrain type:  Medium bold. Early maturing variety. \\nPlant height: 110 cm. Suitable for all over \\nBangladesh. It is grown in Boro season. Grain \\nyield:  9. 0 t/ha. Duration:  145 days\\nGrain type:  Medium slender, transparent and white. \\nPlant height:  112 cm. It is grown in Aman season. \\nGrain yield:  6.5 t/ha. Duration:  118 days.\\nBRRI \\nhybrid \\ndhan2 \\n(2008)\\nBRRI \\nhybrid \\ndhan3\\n(2009)\\nBRRI \\nhybrid \\ndhan4 \\n(2010) Name of\\n Varieties  Important Characteristics Crop\\n (Year of Release)Hybrids Varities and their Characteristics\\n1.2 Production Technology\\nLand and soil\\nMedium high land to lowland is suitable for rice cultivation depending on growing \\nseason.  Any land type can be brought under rice cultivation; but its cultivation may not be economical. Clay and loamy, slightly acidic to slightly alkaline soils are suitable for rice cultivation. \\nSeed rate\\nSeed rate varies depending on crop establishment methods. For example, direct-\\nseeded rice (DSR) requires more seed rate than transplanted ones. Direct seeded upland rice: 50-60 kg/ha; Transplanted rice: 8-10 kg/ha for one seedling/hill and 16-20 kg/ha for 2-3 seedlings/hill would be required. \\nSeed treatment and soaking\\nGood quality seed is the prime requirement for a good harvest. Use of properly filled, \\nhealthy seeds would ensure 5-20% higher yields than poor quality seeds. Good seeds can be sorted out easily. Dissolve 375g urea in 10 litres of water and put 10 kg seed into the container and stir seeds by hand. Fully filled seeds will be deposited at the bottom of the container. Discard unfilled floated seeds from the top. Remove good', metadata={'page': 24, 'source': 'Hand Book of Agricultural Technology.pdf'}),\n",
       " Document(page_content='21It is a semi-dwarf high yield potential wheat variety. \\nLeaves are broad, droopy and dark green in colour. It is an early maturing variety. Grains per spike:  35-\\n40. Grains are white-amber and larger in size.  1000-\\ngrain weight:  47-52g. The variety is tolerant to high \\ntemperature and gives 10-20% higher yield under late seeding. Flour is suitable for chapati making. The variety is tolerant to leaf blight and resistant to leaf rust diseases and moderately tolerant to terminal heat stress. Grain yield:  4.3-5.0 t/ha. Duration:  \\n103-112 days.   \\nIt is a semi-dwarf high yielding variety. The variety \\nis tolerant to terminal heat stress and suitable for growing under both optimum and late sown conditions. This is a early maturing variety. Grains are white and amber. 1000-grain weight:  48-55g. \\nGrains per spike:  45-50. The flour is most suitable \\nfor bread making due to its strong gluten. It can be grown successfully throughout the country except in saline areas more than 6 mmhos. Grain yield:  4.3-\\n5.1 t/ha. Duration:  102-110 days\\nBARI \\nGom-23 \\n(Bijoy) \\n(2005)\\nBARI \\nGom-24 \\n(Prodip) \\n(2005) Name of\\n Varieties  Important Characteristics Crop\\n (Year of Release)2. Wheat\\nMore than 80% of wheat in Bangladesh is grown in rice-wheat rotation of which \\nabout 50% is planted late. Late planting causes a significant yield loss in every year. Wheat is often late because of delayed harvesting of T. Aman rice, longer time for land preparation, unavailability of labourers, late monsoon and some cases of excess moisture in the soil. The optimum growing mean temperature is about 25\\n  0C. It \\nfavours range of temperatures between 200 and300C with minimum temperature of 3-\\n40C and maximum of 30-320C. Well distributed rainfall ranging from 40-110 cm is \\noptimum for wheat growth. The area of wheat during 2011-12 is 3.58 lac hectares with total production of about 10 lac tones with an average yield of about 2.78 t/ha. The yield of wheat can be further increased through HYV wheat and improve production technology. \\n2.1 Varieties\\nWheat Research Centre (WRC), BARI has so far released 28 wheat varieties. The \\nsalient features of these newly released and 6 popular wheat varieties are stated below:', metadata={'page': 35, 'source': 'Hand Book of Agricultural Technology.pdf'})]"
      ]
     },
     "execution_count": 43,
     "metadata": {},
     "output_type": "execute_result"
    }
   ],
   "source": [
    "retrieved_docs = retriever.invoke(\"What is the grain yield of BRRI hybrid dhan2\")\n",
    "retrieved_docs"
   ]
  },
  {
   "cell_type": "code",
   "execution_count": 52,
   "metadata": {},
   "outputs": [
    {
     "name": "stdout",
     "output_type": "stream",
     "text": [
      "The rice with the highest yield is BRRI dhan29, which has a grain yield of 7.5 t/ha. It is a medium slender and white rice variety that is mainly grown in the Boro season."
     ]
    }
   ],
   "source": [
    "rag_chain = (\n",
    "    {\"context\": retriever | format_docs, \"question\": RunnablePassthrough()}\n",
    "    | prompt\n",
    "    | llm\n",
    "    | StrOutputParser()\n",
    ")\n",
    "for chunk in rag_chain.stream(\"What is the rice with most yield?\"):\n",
    "    print(chunk, end=\"\", flush=True)"
   ]
  },
  {
   "cell_type": "code",
   "execution_count": 56,
   "metadata": {},
   "outputs": [
    {
     "name": "stdout",
     "output_type": "stream",
     "text": [
      "BRRI dhan36 and Bina dhan7 are two varieties that have long slender grain types."
     ]
    }
   ],
   "source": [
    "for chunk in rag_chain.stream(\"What are the varities that have slender grain types?\"):\n",
    "    print(chunk, end=\"\", flush=True)"
   ]
  },
  {
   "cell_type": "markdown",
   "metadata": {},
   "source": [
    "Accuracy is not that good. since this is similar to tabular data and they all are related in the same context. so page chunks does not help either"
   ]
  },
  {
   "cell_type": "code",
   "execution_count": null,
   "metadata": {},
   "outputs": [],
   "source": []
  },
  {
   "cell_type": "code",
   "execution_count": null,
   "metadata": {},
   "outputs": [],
   "source": []
  }
 ],
 "metadata": {
  "kernelspec": {
   "display_name": "rag_llm_chatbot",
   "language": "python",
   "name": "rag_llm_chatbot"
  },
  "language_info": {
   "codemirror_mode": {
    "name": "ipython",
    "version": 3
   },
   "file_extension": ".py",
   "mimetype": "text/x-python",
   "name": "python",
   "nbconvert_exporter": "python",
   "pygments_lexer": "ipython3",
   "version": "3.12.2"
  }
 },
 "nbformat": 4,
 "nbformat_minor": 2
}
